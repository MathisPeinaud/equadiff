{
 "cells": [
  {
   "cell_type": "code",
   "execution_count": null,
   "metadata": {},
   "outputs": [],
   "source": [
    "import numpy as np \n",
    "import matplotlib.pyplot as plt\n",
    "%matplotlib inline \n",
    "plt.rcParams[\"figure.figsize\"] = (3,3)\n",
    "from mpl_toolkits.mplot3d import Axes3D\n",
    "from scipy.integrate import solve_ivp"
   ]
  },
  {
   "cell_type": "markdown",
   "metadata": {},
   "source": [
    "test 3\n"
   ]
  },
  {
   "cell_type": "markdown",
   "metadata": {},
   "source": [
    "Bifurcations de populations de neurones\n",
    "======================\n",
    "\n",
    "Le but de ce projet est de simuler l'évolution de l'activité moyenne de groupes de neurones en intéraction, à l'aide d'un modèle simplifié de *Wilson-Cowan*. En notant $x=(x_1,...,x_i,..., x_n)\\in \\mathbb{R}^n$ le vecteur contenant l'activité moyenne de chacun des $n$ groupes de neurones, ce modèle s'écrit (en grandeurs normalisées)\n",
    "$$\n",
    "\\tau \\dot x = - x + S(Wx + d^{\\rm ext})\n",
    "$$\n",
    "où $\\tau$ est une constante de temps, $W \\in \\mathbb{R}^{n\\times n}$ est une matrice décrivant les intéractions entre groupes de neurones, $d^{\\rm ext}\\in \\mathbb{R}^n$ peut contenir des stimulis/perturbations extérieurs impactant chaque groupe, et $S: \\mathbb{R}^n \\to \\mathbb{R}^n$ est de la forme\n",
    "$$\n",
    "S({\\rm x}_1,...,{\\rm x}_i ,...,{\\rm x}_n) = (s_1({\\rm x}_1),...,s_i({\\rm x}_i),...,s_n({\\rm x}_n))\n",
    "$$\n",
    "où $s_i:\\mathbb{R}\\to \\mathbb{R}$ sont des fonctions dîtes d'*activation*.\n",
    "\n",
    "Ces fonctions d'activation permettent de modéliser le fait que l'activité environnante d'un groupe de neurone doit atteindre un certain seuil avant d'exciter ce groupe. Des choix courants de fonctions d'activation sont la tangente hyperbolique ou des sigmoides de la forme\n",
    "$$\n",
    "s({\\rm x}) = \\frac{1}{1+ e^{-a(x-\\theta)}}-\\frac{1}{1+e^{a\\theta}}\n",
    "$$\n",
    "où $\\theta$ représente le seuil d'activation et $a$ sa pente, comme illustré ci-dessous. "
   ]
  },
  {
   "cell_type": "code",
   "execution_count": null,
   "metadata": {},
   "outputs": [],
   "source": [
    "def sigmoid(x):\n",
    "    a = 2.0   # la pente au niveau du seuil est a/4\n",
    "    theta = 5.0  # seuil\n",
    "    return 1/(1+np.exp(-a*(x-theta)))-1/(1+np.exp(a*theta))\n",
    "\n",
    "x = np.linspace(-10,10)\n",
    "plt.figure()\n",
    "plt.plot(x,sigmoid(x))\n",
    "plt.grid(True)\n",
    "plt.xlabel('$x$')\n",
    "plt.title(\"Fonction d'activation\")\n",
    "plt.show()"
   ]
  },
  {
   "cell_type": "markdown",
   "metadata": {},
   "source": [
    "Notons que si l'on réécrit l'équation différentielle composante par composante, on trouve que la dynamique de chaque groupe de neurone s'écrit\n",
    "$$\n",
    "\\tau \\dot x_i = -x_i + s_i\\left(\\sum_{j=1}^n w_{ij}x_j + d_{i}^{\\rm ext}\\right)\n",
    "$$\n",
    "\n",
    "**Question 1** Justifier que si les fonctions d'activation $s_i:\\mathbb{R}\\to \\mathbb{R}$ sont bornées (minorées et majorées) alors toutes les solutions maximales $t\\mapsto x(t)$ sont définies sur $\\mathbb{R}$ et sont bornées. Relier la borne de $t\\mapsto x_i(t)$ à la borne de $s_i$ pour chaque $i$. \n"
   ]
  },
  {
   "cell_type": "markdown",
   "metadata": {},
   "source": [
    "On suppose que toutes les fonctions $s_i:\\mathbb{R}\\to \\mathbb{R}$ sont bornées.\n",
    "\n",
    "    - Si $\\tau = 0$:\n",
    "alors pour tout i, $x_i = s_i\\left(\\sum_{j=1}^n w_{ij}x_j + d_{i}^{\\rm ext}\\right)$.\n",
    "\n",
    "Vu que $s_i$ est définie sur $\\mathbb{R}$ et bornée, on peut alors conclure que toute solution maximale $t\\mapsto x(t)$ est définie sur $\\mathbb{R}$ et est bornée.\n",
    "\n",
    "    - Sinon:\n",
    "on prend t $\\in \\mathbb{R}$. On prend aussi comme référence la norme euclidienne sur $\\mathbb{R}^n$ que l'on note $\\lVert \\rVert$.\n",
    "\n",
    "Vu que les fonctions $s_i$ sont bornées, $\\forall \\; i, \\exists \\; M_i /\\forall \\; y \\in \\mathbb{R}, \\lvert s_i(y) \\rvert \\leq M_i$.\n",
    "\n",
    "Alors en considérant $x$ une solution du problème:\n",
    "$$\n",
    "\\lVert \\dot x(t) \\rVert = \\lVert -x(t) + S(Wx + d^{\\rm ext}) \\rVert\n",
    "\n",
    "                        \\leq \\lVert x(t) \\rVert + \\lVert\\sum_{i=1}^n s_i\\left(\\sum_{j=1}^n w_{ij}x_j + d_{i}^{\\rm ext}\\right) \\rVert\n",
    "                        \n",
    "                        \\leq \\lVert x(t) \\rVert +\\sqrt\\sum_{i=1}^n s_i\\left(\\sum_{j=1}^n w_{ij}x_j + d_{i}^{\\rm ext}\\right)^2"
   ]
  },
  {
   "cell_type": "markdown",
   "metadata": {},
   "source": [
    "\n",
    "Pour simplifier, on étudie ce système en dimension 2, c'est-à-dire avec deux groupes de neurones: le premier ayant un effet *excitant* et le deuxième *inhibant*. On traduit cela par la matrice d'interconnection suivante."
   ]
  },
  {
   "cell_type": "code",
   "execution_count": null,
   "metadata": {},
   "outputs": [],
   "source": [
    "W = np.array([[5.0, -4.0], [8.0, -1.0]])\n",
    "print(W)"
   ]
  },
  {
   "cell_type": "markdown",
   "metadata": {},
   "source": [
    "On fixe aussi $s_1=s_2$ données par la sigmoide ci-dessus, ainsi que $\\tau=1$ puisque faire varier $\\tau$ ne change que l'échelle de temps. On va essayer d'étudier et exploiter la grande richesse de comportements asymptotiques possibles pour différentes valeurs de $d^{\\rm ext}$."
   ]
  },
  {
   "cell_type": "markdown",
   "metadata": {},
   "source": [
    "Points d'équilibre\n",
    "================\n",
    "\n",
    "On commence par considérer $d^{\\rm ext}$ constant. Ses composantes $d_1^{\\rm ext}$ et $d_2^{\\rm ext}$ peuvent donc être vus comme des paramètres du système. Les points d'équilibre $x^{\\rm eq}\\in \\mathbb{R}^n$ se caractérisent alors par l'équation\n",
    "$$\n",
    "x^{\\rm eq} = S(W x^{\\rm eq} + d^{\\rm ext})\n",
    "$$\n",
    "La fonction suivante trace les points $(x_1,x_2)$ tels que $-x_1+s(w_{11}x_1+w_{12}x_2+d_1^{\\rm ext})=0$ (en rouge) et $-x_2+s(w_{21}x_1+w_{22}x_2+d_2^{\\rm ext})=0$ (en vert) pour des valeurs de $d^{\\rm ext}$ à choisir."
   ]
  },
  {
   "cell_type": "code",
   "execution_count": null,
   "metadata": {},
   "outputs": [],
   "source": [
    "def plot_zero_locus(d_ext):\n",
    "    grid_x1 = np.linspace(-0.1,2.0,100)\n",
    "    grid_x2 = np.linspace(-2.0,2.0,100)\n",
    "    X1, X2 = np.meshgrid(grid_x1,grid_x2)   # matrices carrées de taille 100\n",
    "\n",
    "    X1dot = -X1 + sigmoid(W[0,0]*X1 + W[0,1]*X2 + d_ext[0]) # matrice carrée de taille 100\n",
    "    X2dot = -X2 + sigmoid(W[1,0]*X1 + W[1,1]*X2 + d_ext[1])\n",
    "    plt.figure()\n",
    "    C1 = plt.contour(X1, X2, X1dot, 0, colors = 'red')\n",
    "    C2 = plt.contour(X1, X2, X2dot, 0, colors = 'green')\n",
    "    h1,_ = C1.legend_elements()\n",
    "    h2,_ = C2.legend_elements()\n",
    "    plt.grid(True)\n",
    "    plt.xlabel('$x_1$')\n",
    "    plt.ylabel('$x_2$')\n",
    "    plt.legend([h1[0],h2[0]],['$\\dot x_1 = 0$','$\\dot x_2 = 0$'])\n",
    "    plt.title(\"Zero locus for $d_{ext} =$ \"+ str(d_ext))\n",
    "    plt.show()\n",
    "\n",
    "    # X3 = X1dot - X2dot\n",
    "    # for i in range (100) :\n",
    "    #     for j in range (100) :\n",
    "    #         if abs(X3[i,j])< 0.0001 :\n",
    "    #             print (\"les coordonnées du point d'éq sont (\",X1[80,41],\",\", X2[80,41],\")\")\n",
    "    return\n",
    "\n",
    "\n",
    "d_ext = np.array([6.0,4.0])  # A CHOISIR\n",
    "plot_zero_locus(d_ext)\n"
   ]
  },
  {
   "cell_type": "markdown",
   "metadata": {},
   "source": [
    "**Question 2** Identifier le point d'équilibre du système pour $d^{\\rm ext}=0$ et étudier sa stabilité. \n",
    "\n",
    "**Question 3** Tester d'autres valeurs de $d^{\\rm ext}$. Par exemple, fixer $d^{\\rm ext}_2=4$, et faire varier $d^{\\rm ext}_1$ entre 3 et 8. Qu'observe-t-on sur le nombre de points d'équilibre ? Pour $d^{\\rm ext}=(6,4)$, on trace ci-dessous le portrait de phase. Retrouver graphiquement les points d'équilibre et intuiter leur stabilité. Quels sont les seuls comportements asymptotiques possibles des solutions pour cette valeur constante de $d^{\\rm ext}$ ?"
   ]
  },
  {
   "cell_type": "code",
   "execution_count": null,
   "metadata": {},
   "outputs": [],
   "source": [
    "d_ext = np.array([6.0,4.0])  \n",
    "\n",
    "grid_x1 = np.linspace(-0.1,1.2,70)\n",
    "grid_x2 = np.linspace(-0.1,1.2,70)\n",
    "X1, X2 = np.meshgrid(grid_x1,grid_x2)\n",
    "\n",
    "X1dot = -X1 + sigmoid(W[0,0]*X1 + W[0,1]*X2 + d_ext[0])\n",
    "X2dot = -X2 + sigmoid(W[1,0]*X1 + W[1,1]*X2 + d_ext[1])\n",
    "\n",
    "plt.figure()\n",
    "plt.streamplot(grid_x1, grid_x2, X1dot, X2dot)\n",
    "plt.grid(True)\n",
    "plt.xlabel('$x_1$')\n",
    "plt.ylabel('$x_2$')\n",
    "plt.show()"
   ]
  },
  {
   "cell_type": "markdown",
   "metadata": {},
   "source": [
    "Lorsque le nombre et la nature (stabilité) des points d'équilibre changent brusquement avec des modifications de paramètres, on parle de *bifurcation*. De tels phénomènes permettent généralement de produire des comportements asymptotiques extrêmement riches et variés, simplement en faisant varier ces paramètres. Nous en étudions plusieurs exemples dans la suite."
   ]
  },
  {
   "cell_type": "markdown",
   "metadata": {},
   "source": [
    "Simulation des trajectoires\n",
    "================\n",
    "\n",
    "**Question 4** Compléter la fonction ``solve_euler_explicit`` ci-dessous prenant en entrée une fonction $f: \\mathbb{R}\\times\\mathbb{R}^n \\to \\mathbb{R}^n$ quelconque, une condition initiale $x_0$, un pas de temps $dt$, les temps initiaux et finaux, et renvoyant e vecteur des temps $t^j$ et de la solution $x^j$ du schéma d'Euler explicite appliqué à $\\dot{x}=f(t,x)$."
   ]
  },
  {
   "cell_type": "code",
   "execution_count": null,
   "metadata": {},
   "outputs": [],
   "source": [
    "def solve_euler_explicit(f, x0, dt, t0, tf):\n",
    "    # A COMPLETER\n",
    "    return # A COMPLETER"
   ]
  },
  {
   "cell_type": "markdown",
   "metadata": {},
   "source": [
    "**Question 5** Expliquer (sans le faire) comment on pourrait trouver numériquement l'ordre de convergence de ce schéma.\n"
   ]
  },
  {
   "cell_type": "markdown",
   "metadata": {},
   "source": [
    "\n",
    "**Question 6** On utilise maintenant ``solve_euler_explicit`` pour simuler des trajectoires de neurones lorsque $d^{\\rm ext}$ est constant. En vous aidant du portrait de phase de la question 3, illustrer les comportements asymptotiques possibles des solutions pour $d^{\\rm ext}=(6,4)$, en choisissant différentes conditions initiales. Lequel ne peut-on pas illustrer numériquement ?"
   ]
  },
  {
   "cell_type": "code",
   "execution_count": null,
   "metadata": {},
   "outputs": [],
   "source": [
    "def f_d_ext_constant(t,x):\n",
    "    d_ext = np.array([6.0,4.0])\n",
    "    return -x + sigmoid(np.dot(W,x)+d_ext)\n",
    "\n",
    "x0 = # A COMPLETER\n",
    "dt = 0.1\n",
    "t0, tf = 0.0, 100.0\n",
    "time, x = solve_euler_explicit(f_d_ext_constant, x0, dt, t0, tf)\n"
   ]
  },
  {
   "cell_type": "markdown",
   "metadata": {},
   "source": [
    "**Question 7** On fixe maintenant $d_2^{\\rm ext}=8$ et on fait varier $d_1^{\\rm ext}$ lentement de 4 à 8, puis de 8 à 4. En utilisant ``plot_zero_locus``, justifier le comportement de la solution obtenue. Tracer la solution en fonction de $d_1^{\\rm ext}$, comment appelle-t-on ce phénomène ? Justifier que l'on parle de *mémoire courte*."
   ]
  },
  {
   "cell_type": "code",
   "execution_count": null,
   "metadata": {},
   "outputs": [],
   "source": [
    "def d_ext_varying(t):\n",
    "    d1_ext = (0.1*t+4)*(t<40)+(8-0.1*(t-40))*(t>=40)\n",
    "    d2_ext = 8.0*np.ones(np.shape(t))\n",
    "    return np.array([d1_ext,d2_ext])\n",
    "\n",
    "def f_d_ext_varying(t,x):\n",
    "    return -x + sigmoid(np.dot(W,x)+d_ext_varying(t))\n",
    "\n",
    "x0 = np.array([0.0,1.0])\n",
    "dt = 0.1\n",
    "t0, tf = 0.0, 80.0\n",
    "time, x = solve_euler_explicit(f_d_ext_varying, x0, dt, t0, tf)"
   ]
  },
  {
   "cell_type": "markdown",
   "metadata": {},
   "source": [
    "Bendixon et cycle limite\n",
    "============================\n",
    "\n",
    "On cherche maintenant à faire apparaître un cycle limite oscillatoire. On s'appuie pour cela sur le théorème de *Bendixon* qui décrit le comportement possible de solutions bornées d'équations différentielles en dimension 2:\n",
    "\n",
    "    ''Pour une équation différentielle de dimension 2 définie par une fonction continument différentiable, toute solution maximale bornée converge soit vers un point soit vers une fonction périodique du temps appelée *cycle limite*''\n",
    "    \n",
    "**Question 8** Justifier que l'on recherche alors une valeur de $d_{\\rm ext}$ pour laquelle le système admet un seul point d'équilibre et pour laquelle ce point est instable. \n",
    "\n",
    "**Question 9** La fonction ci-dessous permet de tracer les zéros de la dynamique comme ci-dessus mais superposés aux zones où la trace de la jacobienne de $f$ est strictement négative et son déterminant strictement positif. Compléter le calcul de la jacobienne et proposer une méthode empirique pour trouver une valeur de $d_{\\rm ext}$ donnant un cycle limite. Vérifier en simulation l'apparition de ce cycle limite."
   ]
  },
  {
   "cell_type": "code",
   "execution_count": 19,
   "metadata": {},
   "outputs": [
    {
     "data": {
      "image/png": "[encoded data removed]",
      "text/plain": [
       "<Figure size 300x300 with 1 Axes>"
      ]
     },
     "metadata": {},
     "output_type": "display_data"
    }
   ],
   "source": [
    "def jacobian_dynamics(x1,x2,d_ext):\n",
    "    return # A COMPLETER\n",
    "\n",
    "def plot_zero_locus_stabilite(d_ext):\n",
    "    N = 100\n",
    "    grid_x1 = np.linspace(-0.1,2.0,N)\n",
    "    grid_x2 = np.linspace(-2.0,2.0,N)\n",
    "    X1, X2 = np.meshgrid(grid_x1,grid_x2)\n",
    "\n",
    "    X1dot = -X1 + sigmoid(W[0,0]*X1 + W[0,1]*X2 + d_ext[0])\n",
    "    X2dot = -X2 + sigmoid(W[1,0]*X1 + W[1,1]*X2 + d_ext[1])\n",
    "\n",
    "    # compute trace and determinant of jacobian matrix on the grid\n",
    "    tr = np.zeros((N,N))\n",
    "    deter = np.zeros((N,N))\n",
    "    for i in np.arange(N):\n",
    "        for j in np.arange(N):\n",
    "            tr[i,j] = np.trace(jacobian_dynamics(X1[i,j],X2[i,j],d_ext))\n",
    "            deter[i,j] = np.linalg.det(jacobian_dynamics(X1[i,j],X2[i,j],d_ext))\n",
    "\n",
    "    # plot zone where  the trace of the jacobian is negative and its determinant positive\n",
    "    plt.figure()\n",
    "    plt.pcolormesh(X1,X2,(tr<0)*(deter>0))\n",
    "\n",
    "    # root locus plot\n",
    "    C1 = plt.contour(X1, X2, X1dot, 0, colors = 'red')\n",
    "    C2 = plt.contour(X1, X2, X2dot, 0, colors = 'green')\n",
    "    h1,_ = C1.legend_elements()\n",
    "    h2,_ = C2.legend_elements()\n",
    "    plt.grid(True)\n",
    "    plt.xlabel('$x_1$')\n",
    "    plt.ylabel('$x_2$')\n",
    "    plt.legend([h1[0],h2[0]],['$\\dot x_1 = 0$','$\\dot x_2 = 0$'])\n",
    "    plt.title(\"Zero locus for $d_{ext} =$ \"+ str(d_ext))\n",
    "    plt.show()\n",
    "\n",
    "    return\n",
    "\n",
    "plot_zero_locus_stabilite(np.array([4.0,1.0]))"
   ]
  },
  {
   "cell_type": "code",
   "execution_count": null,
   "metadata": {},
   "outputs": [],
   "source": []
  }
 ],
 "metadata": {
  "kernelspec": {
   "display_name": "Python 3 (ipykernel)",
   "language": "python",
   "name": "python3"
  },
  "language_info": {
   "codemirror_mode": {
    "name": "ipython",
    "version": 3
   },
   "file_extension": ".py",
   "mimetype": "text/x-python",
   "name": "python",
   "nbconvert_exporter": "python",
   "pygments_lexer": "ipython3",
   "version": "3.11.4"
  },
  "vscode": {
   "interpreter": {
    "hash": "f327b25b9e4e1cec5c1bb3d5832449c6ff9ed24447f4e2c000bad448a46dadfb"
   }
  }
 },
 "nbformat": 4,
 "nbformat_minor": 4
}
